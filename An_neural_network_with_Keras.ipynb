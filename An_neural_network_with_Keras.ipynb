{
  "nbformat": 4,
  "nbformat_minor": 0,
  "metadata": {
    "colab": {
      "name": "An_neural_network_with_Keras.ipynb",
      "provenance": [],
      "authorship_tag": "ABX9TyMsw5JC4iKGTzRfSHXWVAH0",
      "include_colab_link": true
    },
    "kernelspec": {
      "name": "python3",
      "display_name": "Python 3"
    },
    "language_info": {
      "name": "python"
    },
    "accelerator": "GPU"
  },
  "cells": [
    {
      "cell_type": "markdown",
      "metadata": {
        "id": "view-in-github",
        "colab_type": "text"
      },
      "source": [
        "<a href=\"https://colab.research.google.com/github/Kerwinji/Dive-into-DL-PyTorch/blob/master/An_neural_network_with_Keras.ipynb\" target=\"_parent\"><img src=\"https://colab.research.google.com/assets/colab-badge.svg\" alt=\"Open In Colab\"/></a>"
      ]
    },
    {
      "cell_type": "code",
      "metadata": {
        "id": "bUjLYN-1_AsQ"
      },
      "source": [
        "import tensorflow as tf\n",
        "from tensorflow import keras\n",
        "from tensorflow.keras.models import Sequential\n",
        "from tensorflow.keras.layers import Activation, Dense\n",
        "from tensorflow.keras.optimizers import Adam\n",
        "from tensorflow.keras.metrics import categorical_crossentropy\n",
        "\n",
        "import numpy as np\n",
        "from random import randint\n",
        "from sklearn.utils import shuffle\n",
        "from sklearn.preprocessing import MinMaxScaler"
      ],
      "execution_count": null,
      "outputs": []
    },
    {
      "cell_type": "code",
      "metadata": {
        "id": "AFzkhTbrEyR0"
      },
      "source": [
        "train_labels = []\n",
        "train_samples = []\n",
        "\n",
        "for i in range(0, 50):\n",
        "    random_younger = randint(13, 65)\n",
        "    train_samples.append(random_younger)\n",
        "    train_labels.append(1)\n",
        "\n",
        "    random_older = randint(65, 100)\n",
        "    train_samples.append(random_older)\n",
        "    train_labels.append(0)\n",
        "\n",
        "for i in range(1000):\n",
        "    random_younger = randint(13, 65)\n",
        "    train_samples.append(random_younger)\n",
        "    train_labels.append(0)\n",
        "\n",
        "    random_older = randint(65, 100)\n",
        "    train_samples.append(random_older)\n",
        "    train_labels.append(1)"
      ],
      "execution_count": null,
      "outputs": []
    },
    {
      "cell_type": "code",
      "metadata": {
        "id": "YmUM03AaE5NK"
      },
      "source": [
        "train_samples = np.array(train_samples)\n",
        "train_labels = np.array(train_labels)\n",
        "train_labels, train_samples = shuffle(train_labels, train_samples)\n",
        "\n",
        "scaler = MinMaxScaler(feature_range=(0, 1))\n",
        "scaled_train_samples = scaler.fit_transform(train_samples.reshape(-1, 1))   "
      ],
      "execution_count": null,
      "outputs": []
    },
    {
      "cell_type": "markdown",
      "metadata": {
        "id": "BsmmvWQ3FG83"
      },
      "source": [
        "上面将train_samples reshape成（-1，1）， 下面input_shape为什么是（1，）"
      ]
    },
    {
      "cell_type": "code",
      "metadata": {
        "id": "dN8qm6Qg_N5W"
      },
      "source": [
        "model = Sequential([\n",
        "                    Dense(units=16, input_shape=(1,), activation='relu'),\n",
        "                    Dense(units=32, activation='relu'),\n",
        "                    Dense(units=2, activation='softmax')\n",
        "])\n"
      ],
      "execution_count": null,
      "outputs": []
    },
    {
      "cell_type": "code",
      "metadata": {
        "colab": {
          "base_uri": "https://localhost:8080/"
        },
        "id": "rdKkVCFGFAQZ",
        "outputId": "ca2cdbf4-dae5-4bca-a3b0-bb092f17cf6f"
      },
      "source": [
        "model.compile(optimizer=Adam(learning_rate=0.0001), loss='sparse_categorical_crossentropy', metrics=['accuracy'])\n",
        "\n",
        "model.fit(x=scaled_train_samples, y=train_labels, validation_split=0.1, batch_size=10, epochs=30, verbose=2)"
      ],
      "execution_count": null,
      "outputs": [
        {
          "output_type": "stream",
          "text": [
            "Epoch 1/30\n",
            "189/189 - 4s - loss: 0.6480 - accuracy: 0.5429 - val_loss: 0.6366 - val_accuracy: 0.6190\n",
            "Epoch 2/30\n",
            "189/189 - 0s - loss: 0.6274 - accuracy: 0.6228 - val_loss: 0.6168 - val_accuracy: 0.6762\n",
            "Epoch 3/30\n",
            "189/189 - 0s - loss: 0.6051 - accuracy: 0.6772 - val_loss: 0.5925 - val_accuracy: 0.7000\n",
            "Epoch 4/30\n",
            "189/189 - 0s - loss: 0.5810 - accuracy: 0.7265 - val_loss: 0.5683 - val_accuracy: 0.7476\n",
            "Epoch 5/30\n",
            "189/189 - 0s - loss: 0.5553 - accuracy: 0.7683 - val_loss: 0.5424 - val_accuracy: 0.7857\n",
            "Epoch 6/30\n",
            "189/189 - 0s - loss: 0.5277 - accuracy: 0.8011 - val_loss: 0.5151 - val_accuracy: 0.8095\n",
            "Epoch 7/30\n",
            "189/189 - 0s - loss: 0.4992 - accuracy: 0.8323 - val_loss: 0.4880 - val_accuracy: 0.8190\n",
            "Epoch 8/30\n",
            "189/189 - 0s - loss: 0.4715 - accuracy: 0.8492 - val_loss: 0.4620 - val_accuracy: 0.8429\n",
            "Epoch 9/30\n",
            "189/189 - 0s - loss: 0.4449 - accuracy: 0.8683 - val_loss: 0.4383 - val_accuracy: 0.8571\n",
            "Epoch 10/30\n",
            "189/189 - 0s - loss: 0.4205 - accuracy: 0.8783 - val_loss: 0.4168 - val_accuracy: 0.8667\n",
            "Epoch 11/30\n",
            "189/189 - 0s - loss: 0.3986 - accuracy: 0.8926 - val_loss: 0.3978 - val_accuracy: 0.8762\n",
            "Epoch 12/30\n",
            "189/189 - 0s - loss: 0.3793 - accuracy: 0.8921 - val_loss: 0.3819 - val_accuracy: 0.8857\n",
            "Epoch 13/30\n",
            "189/189 - 0s - loss: 0.3628 - accuracy: 0.9037 - val_loss: 0.3685 - val_accuracy: 0.8857\n",
            "Epoch 14/30\n",
            "189/189 - 0s - loss: 0.3490 - accuracy: 0.9069 - val_loss: 0.3576 - val_accuracy: 0.8857\n",
            "Epoch 15/30\n",
            "189/189 - 0s - loss: 0.3372 - accuracy: 0.9048 - val_loss: 0.3487 - val_accuracy: 0.8952\n",
            "Epoch 16/30\n",
            "189/189 - 0s - loss: 0.3279 - accuracy: 0.9180 - val_loss: 0.3416 - val_accuracy: 0.8952\n",
            "Epoch 17/30\n",
            "189/189 - 0s - loss: 0.3197 - accuracy: 0.9159 - val_loss: 0.3359 - val_accuracy: 0.8952\n",
            "Epoch 18/30\n",
            "189/189 - 0s - loss: 0.3131 - accuracy: 0.9190 - val_loss: 0.3314 - val_accuracy: 0.8952\n",
            "Epoch 19/30\n",
            "189/189 - 0s - loss: 0.3077 - accuracy: 0.9196 - val_loss: 0.3274 - val_accuracy: 0.8952\n",
            "Epoch 20/30\n",
            "189/189 - 0s - loss: 0.3027 - accuracy: 0.9233 - val_loss: 0.3254 - val_accuracy: 0.8952\n",
            "Epoch 21/30\n",
            "189/189 - 0s - loss: 0.2989 - accuracy: 0.9201 - val_loss: 0.3223 - val_accuracy: 0.8952\n",
            "Epoch 22/30\n",
            "189/189 - 0s - loss: 0.2954 - accuracy: 0.9217 - val_loss: 0.3191 - val_accuracy: 0.9048\n",
            "Epoch 23/30\n",
            "189/189 - 0s - loss: 0.2924 - accuracy: 0.9249 - val_loss: 0.3177 - val_accuracy: 0.9048\n",
            "Epoch 24/30\n",
            "189/189 - 0s - loss: 0.2898 - accuracy: 0.9249 - val_loss: 0.3158 - val_accuracy: 0.9048\n",
            "Epoch 25/30\n",
            "189/189 - 0s - loss: 0.2879 - accuracy: 0.9265 - val_loss: 0.3150 - val_accuracy: 0.9048\n",
            "Epoch 26/30\n",
            "189/189 - 0s - loss: 0.2857 - accuracy: 0.9254 - val_loss: 0.3131 - val_accuracy: 0.9190\n",
            "Epoch 27/30\n",
            "189/189 - 0s - loss: 0.2840 - accuracy: 0.9286 - val_loss: 0.3129 - val_accuracy: 0.9048\n",
            "Epoch 28/30\n",
            "189/189 - 0s - loss: 0.2826 - accuracy: 0.9270 - val_loss: 0.3122 - val_accuracy: 0.9048\n",
            "Epoch 29/30\n",
            "189/189 - 0s - loss: 0.2811 - accuracy: 0.9249 - val_loss: 0.3108 - val_accuracy: 0.9048\n",
            "Epoch 30/30\n",
            "189/189 - 0s - loss: 0.2800 - accuracy: 0.9296 - val_loss: 0.3102 - val_accuracy: 0.9048\n"
          ],
          "name": "stdout"
        },
        {
          "output_type": "execute_result",
          "data": {
            "text/plain": [
              "<tensorflow.python.keras.callbacks.History at 0x7f58c02b4990>"
            ]
          },
          "metadata": {
            "tags": []
          },
          "execution_count": 5
        }
      ]
    },
    {
      "cell_type": "code",
      "metadata": {
        "id": "oROuiiAsGI5O"
      },
      "source": [
        "test_samples = []\n",
        "test_labels = []\n",
        "\n",
        "for i in range(0, 50):\n",
        "    random_younger = randint(13, 65)\n",
        "    test_samples.append(random_younger)\n",
        "    test_labels.append(1)\n",
        "\n",
        "    random_older = randint(65, 100)\n",
        "    test_samples.append(random_older)\n",
        "    test_labels.append(0)\n",
        "\n",
        "for i in range(1000):\n",
        "    random_younger = randint(13, 65)\n",
        "    test_samples.append(random_younger)\n",
        "    test_labels.append(0)\n",
        "\n",
        "    random_older = randint(65, 100)\n",
        "    test_samples.append(random_older)\n",
        "    test_labels.append(1)\n",
        "\n",
        "test_labels = np.array(test_labels)\n",
        "test_samples = np.array(test_samples)\n",
        "test_labels, test_samples = shuffle(test_labels, test_samples)\n",
        "\n",
        "scaler = MinMaxScaler(feature_range=(0, 1))\n",
        "scaled_test_samples = scaler.fit_transform(test_samples.reshape(-1,1))"
      ],
      "execution_count": null,
      "outputs": []
    },
    {
      "cell_type": "code",
      "metadata": {
        "colab": {
          "base_uri": "https://localhost:8080/"
        },
        "id": "qjBiGznELSzK",
        "outputId": "890221ee-ad04-4359-8ce4-413dd2ffc0b7"
      },
      "source": [
        "predictions = model.predict(x=scaled_test_samples, batch_size=10, verbose=0)\n",
        "predictions"
      ],
      "execution_count": null,
      "outputs": [
        {
          "output_type": "execute_result",
          "data": {
            "text/plain": [
              "array([[0.30525565, 0.6947443 ],\n",
              "       [0.66228575, 0.33771423],\n",
              "       [0.6312322 , 0.36876783],\n",
              "       ...,\n",
              "       [0.0537628 , 0.94623727],\n",
              "       [0.9528862 , 0.04711379],\n",
              "       [0.02956131, 0.9704387 ]], dtype=float32)"
            ]
          },
          "metadata": {
            "tags": []
          },
          "execution_count": 7
        }
      ]
    },
    {
      "cell_type": "code",
      "metadata": {
        "colab": {
          "base_uri": "https://localhost:8080/"
        },
        "id": "Sa3UkpObLiA8",
        "outputId": "fc3a8f10-f866-4285-8a72-915fae31bfb0"
      },
      "source": [
        "rounded_predictions = np.argmax(predictions, axis=-1)  #axis=-1表示索引从最后一个轴选取\n",
        "rounded_predictions"
      ],
      "execution_count": null,
      "outputs": [
        {
          "output_type": "execute_result",
          "data": {
            "text/plain": [
              "array([1, 0, 0, ..., 1, 0, 1])"
            ]
          },
          "metadata": {
            "tags": []
          },
          "execution_count": 8
        }
      ]
    },
    {
      "cell_type": "markdown",
      "metadata": {
        "id": "9WFyXwBRNGp3"
      },
      "source": [
        "### Plotting A Confusion Matrix"
      ]
    },
    {
      "cell_type": "code",
      "metadata": {
        "id": "DXj6eXX3MLOQ"
      },
      "source": [
        "%matplotlib inline\n",
        "import itertools\n",
        "from sklearn.metrics import confusion_matrix\n",
        "import matplotlib.pyplot as plt"
      ],
      "execution_count": null,
      "outputs": []
    },
    {
      "cell_type": "code",
      "metadata": {
        "id": "IjMhQp5LtZDc"
      },
      "source": [
        "cm = confusion_matrix(y_true=test_labels, y_pred=rounded_predictions)\n",
        "cm_plot_labels = ['no_side_effects', 'have_side_effexts']\n",
        "#下面是scikit-learn的website中写的函数\n",
        "def plot_confusion_matrix(cm, classes,\n",
        "                        normalize=False,\n",
        "                        title='Confusion matrix',\n",
        "                        cmap=plt.cm.Blues):\n",
        "    \"\"\"\n",
        "    This function prints and plots the confusion matrix.\n",
        "    Normalization can be applied by setting `normalize=True`.\n",
        "    \"\"\"\n",
        "    plt.imshow(cm, interpolation='nearest', cmap=cmap)\n",
        "    plt.title(title)\n",
        "    plt.colorbar()\n",
        "    tick_marks = np.arange(len(classes))\n",
        "    plt.xticks(tick_marks, classes, rotation=45)\n",
        "    plt.yticks(tick_marks, classes)\n",
        "\n",
        "    if normalize:\n",
        "        cm = cm.astype('float') / cm.sum(axis=1)[:, np.newaxis]\n",
        "        print(\"Normalized confusion matrix\")\n",
        "    else:\n",
        "        print('Confusion matrix, without normalization')\n",
        "\n",
        "    print(cm)\n",
        "\n",
        "    thresh = cm.max() / 2.\n",
        "    for i, j in itertools.product(range(cm.shape[0]), range(cm.shape[1])):\n",
        "        plt.text(j, i, cm[i, j],\n",
        "            horizontalalignment=\"center\",\n",
        "            color=\"white\" if cm[i, j] > thresh else \"black\")\n",
        "\n",
        "    plt.tight_layout()\n",
        "    plt.ylabel('True label')\n",
        "    plt.xlabel('Predicted label')"
      ],
      "execution_count": null,
      "outputs": []
    },
    {
      "cell_type": "code",
      "metadata": {
        "colab": {
          "base_uri": "https://localhost:8080/",
          "height": 362
        },
        "id": "Z4_1LV02uILH",
        "outputId": "99a3768a-c874-483e-8964-59a67696cdfc"
      },
      "source": [
        "plot_confusion_matrix(cm, cm_plot_labels, title='Confusion Matrix')"
      ],
      "execution_count": null,
      "outputs": [
        {
          "output_type": "stream",
          "text": [
            "Confusion matrix, without normalization\n",
            "[[ 933  117]\n",
            " [  45 1005]]\n"
          ],
          "name": "stdout"
        },
        {
          "output_type": "display_data",
          "data": {
            "image/png": "[encoded data removed]",
            "text/plain": [
              "<Figure size 432x288 with 2 Axes>"
            ]
          },
          "metadata": {
            "tags": [],
            "needs_background": "light"
          }
        }
      ]
    },
    {
      "cell_type": "markdown",
      "metadata": {
        "id": "e2ALGUIBufBi"
      },
      "source": [
        "TP=1005, FP=117, TN=933, FN=45\n",
        "precision = TP / TP+FP = ...\n",
        "recall = TP / TP+FN = ..."
      ]
    },
    {
      "cell_type": "code",
      "metadata": {
        "id": "llpv8RWIuS5Y"
      },
      "source": [
        ""
      ],
      "execution_count": null,
      "outputs": []
    },
    {
      "cell_type": "code",
      "metadata": {
        "id": "hyrlOlmPymM1"
      },
      "source": [
        ""
      ],
      "execution_count": null,
      "outputs": []
    }
  ]
}